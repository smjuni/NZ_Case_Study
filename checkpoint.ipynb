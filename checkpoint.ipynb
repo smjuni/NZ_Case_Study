{
 "cells": [
  {
   "cell_type": "code",
   "execution_count": 1,
   "metadata": {},
   "outputs": [],
   "source": [
    "#import dependencies\n",
    "import pandas as pd\n",
    "import numpy as np"
   ]
  },
  {
   "cell_type": "code",
   "execution_count": 2,
   "metadata": {},
   "outputs": [
    {
     "data": {
      "text/html": [
       "<div>\n",
       "<style scoped>\n",
       "    .dataframe tbody tr th:only-of-type {\n",
       "        vertical-align: middle;\n",
       "    }\n",
       "\n",
       "    .dataframe tbody tr th {\n",
       "        vertical-align: top;\n",
       "    }\n",
       "\n",
       "    .dataframe thead th {\n",
       "        text-align: right;\n",
       "    }\n",
       "</style>\n",
       "<table border=\"1\" class=\"dataframe\">\n",
       "  <thead>\n",
       "    <tr style=\"text-align: right;\">\n",
       "      <th></th>\n",
       "      <th>skus_count</th>\n",
       "      <th>customer_id</th>\n",
       "      <th>order_id</th>\n",
       "      <th>order_item_id</th>\n",
       "      <th>order_date</th>\n",
       "      <th>sales</th>\n",
       "      <th>product_category</th>\n",
       "      <th>item_sku</th>\n",
       "      <th>cust_type_New</th>\n",
       "      <th>cust_type_Repeat</th>\n",
       "      <th>new_or_repeat_by_order</th>\n",
       "    </tr>\n",
       "  </thead>\n",
       "  <tbody>\n",
       "    <tr>\n",
       "      <th>0</th>\n",
       "      <td>1.0</td>\n",
       "      <td>29649cb70abee66eb557475c57bbcfee</td>\n",
       "      <td>ebe0ac703444de921b6fb5367260ad26</td>\n",
       "      <td>f4999efe0551c5673c9ccf960e648372</td>\n",
       "      <td>2020-04-24 03:04:56</td>\n",
       "      <td>376.913629</td>\n",
       "      <td>noissue Tissue</td>\n",
       "      <td>custom tissue-1000#2colour-50 x 75cm</td>\n",
       "      <td>1</td>\n",
       "      <td>0</td>\n",
       "      <td>New</td>\n",
       "    </tr>\n",
       "    <tr>\n",
       "      <th>1</th>\n",
       "      <td>2.0</td>\n",
       "      <td>b5ad5ba050d28afdc5da20475216f4ab</td>\n",
       "      <td>662539ec2021c4b79518b257ac839e00</td>\n",
       "      <td>8d9ca488c0d0075c8ba3d323cc4842b7</td>\n",
       "      <td>2020-08-09 07:43:44</td>\n",
       "      <td>199.020039</td>\n",
       "      <td>noissue Stickers</td>\n",
       "      <td>custom sticker-circle-75 x 75mm-1000</td>\n",
       "      <td>0</td>\n",
       "      <td>1</td>\n",
       "      <td>Repeat</td>\n",
       "    </tr>\n",
       "    <tr>\n",
       "      <th>2</th>\n",
       "      <td>1.0</td>\n",
       "      <td>69054b3dade80ebd345ca0de53a796fd</td>\n",
       "      <td>2356a902a3f8d5e5f2b2c2a8ea8b9a34</td>\n",
       "      <td>0fdcfca5e4be5dd653fcfdfa4788c911</td>\n",
       "      <td>2020-06-09 15:28:48</td>\n",
       "      <td>123.189307</td>\n",
       "      <td>Compostable Mailers</td>\n",
       "      <td>noissue-mailer-100-370mm-480mm</td>\n",
       "      <td>1</td>\n",
       "      <td>0</td>\n",
       "      <td>New</td>\n",
       "    </tr>\n",
       "    <tr>\n",
       "      <th>3</th>\n",
       "      <td>2.0</td>\n",
       "      <td>b5ad5ba050d28afdc5da20475216f4ab</td>\n",
       "      <td>662539ec2021c4b79518b257ac839e00</td>\n",
       "      <td>04577b5d415b3e8917b3940bd7f1abc4</td>\n",
       "      <td>2020-08-09 07:43:44</td>\n",
       "      <td>55.388231</td>\n",
       "      <td>noissue Stamps</td>\n",
       "      <td>custom stamp-manual-8cm x 8cm-1</td>\n",
       "      <td>0</td>\n",
       "      <td>1</td>\n",
       "      <td>Repeat</td>\n",
       "    </tr>\n",
       "    <tr>\n",
       "      <th>4</th>\n",
       "      <td>1.0</td>\n",
       "      <td>d0594296cb410dd48e081c620b358451</td>\n",
       "      <td>451a0567ae7c693fb2882b37860ef20d</td>\n",
       "      <td>6a9c15755566cb2f407829fb3637de52</td>\n",
       "      <td>2020-06-11 19:51:18</td>\n",
       "      <td>106.625325</td>\n",
       "      <td>Compostable Mailers</td>\n",
       "      <td>noissue-mailer-100-300mm-420mm</td>\n",
       "      <td>1</td>\n",
       "      <td>0</td>\n",
       "      <td>New</td>\n",
       "    </tr>\n",
       "    <tr>\n",
       "      <th>...</th>\n",
       "      <td>...</td>\n",
       "      <td>...</td>\n",
       "      <td>...</td>\n",
       "      <td>...</td>\n",
       "      <td>...</td>\n",
       "      <td>...</td>\n",
       "      <td>...</td>\n",
       "      <td>...</td>\n",
       "      <td>...</td>\n",
       "      <td>...</td>\n",
       "      <td>...</td>\n",
       "    </tr>\n",
       "    <tr>\n",
       "      <th>27732</th>\n",
       "      <td>2.0</td>\n",
       "      <td>167a163973c0dc784268ce1439f44731</td>\n",
       "      <td>12a8f653a63f74268a3c91602e18a931</td>\n",
       "      <td>56defccc63de74d71ae919ab1ecae656</td>\n",
       "      <td>2020-08-28 16:08:39</td>\n",
       "      <td>170.119235</td>\n",
       "      <td>noissue Stickers</td>\n",
       "      <td>custom sticker-circle-40 x 40mm-1000</td>\n",
       "      <td>1</td>\n",
       "      <td>0</td>\n",
       "      <td>New</td>\n",
       "    </tr>\n",
       "    <tr>\n",
       "      <th>27733</th>\n",
       "      <td>4.0</td>\n",
       "      <td>cade2aee3b1062fe9c6314856ba263e7</td>\n",
       "      <td>c0b75f59becb4bb51c2f020c20241104</td>\n",
       "      <td>8855952988a815c33d84408ee4c60adb</td>\n",
       "      <td>2020-05-08 09:46:57</td>\n",
       "      <td>159.147661</td>\n",
       "      <td>noissue Stickers</td>\n",
       "      <td>custom sticker-circle-50 x 50mm-1000</td>\n",
       "      <td>0</td>\n",
       "      <td>1</td>\n",
       "      <td>Repeat</td>\n",
       "    </tr>\n",
       "    <tr>\n",
       "      <th>27734</th>\n",
       "      <td>4.0</td>\n",
       "      <td>cade2aee3b1062fe9c6314856ba263e7</td>\n",
       "      <td>c0b75f59becb4bb51c2f020c20241104</td>\n",
       "      <td>848f2cb9ef28ad9b821e91599a3df37a</td>\n",
       "      <td>2020-05-08 09:46:57</td>\n",
       "      <td>340.266201</td>\n",
       "      <td>noissue Tissue</td>\n",
       "      <td>own template tissue-1000#2colour-50 x 75cm</td>\n",
       "      <td>0</td>\n",
       "      <td>1</td>\n",
       "      <td>Repeat</td>\n",
       "    </tr>\n",
       "    <tr>\n",
       "      <th>27735</th>\n",
       "      <td>NaN</td>\n",
       "      <td>657989c9751e4f61cbf730c67ae15d4e</td>\n",
       "      <td>84409ab5d58daa0e971150510b1c106a</td>\n",
       "      <td>aaaac45627dddcb26224f41f59da5b68</td>\n",
       "      <td>2020-05-10 21:44:36</td>\n",
       "      <td>14.546653</td>\n",
       "      <td>Sample</td>\n",
       "      <td>SAMPLEPACK</td>\n",
       "      <td>1</td>\n",
       "      <td>0</td>\n",
       "      <td>New</td>\n",
       "    </tr>\n",
       "    <tr>\n",
       "      <th>27736</th>\n",
       "      <td>1.0</td>\n",
       "      <td>0c620bcfc2a979fe9f22acbe0019f276</td>\n",
       "      <td>23e63ace5ccf4dd62ad7da8aab98af93</td>\n",
       "      <td>f8ca2fa0793a913cc0abb9ac6e6b53a5</td>\n",
       "      <td>2020-05-19 13:04:48</td>\n",
       "      <td>516.875366</td>\n",
       "      <td>noissue Tissue</td>\n",
       "      <td>own template tissue-2000#1colour-50 x 75cm</td>\n",
       "      <td>0</td>\n",
       "      <td>1</td>\n",
       "      <td>Repeat</td>\n",
       "    </tr>\n",
       "  </tbody>\n",
       "</table>\n",
       "<p>27737 rows × 11 columns</p>\n",
       "</div>"
      ],
      "text/plain": [
       "       skus_count                       customer_id  \\\n",
       "0             1.0  29649cb70abee66eb557475c57bbcfee   \n",
       "1             2.0  b5ad5ba050d28afdc5da20475216f4ab   \n",
       "2             1.0  69054b3dade80ebd345ca0de53a796fd   \n",
       "3             2.0  b5ad5ba050d28afdc5da20475216f4ab   \n",
       "4             1.0  d0594296cb410dd48e081c620b358451   \n",
       "...           ...                               ...   \n",
       "27732         2.0  167a163973c0dc784268ce1439f44731   \n",
       "27733         4.0  cade2aee3b1062fe9c6314856ba263e7   \n",
       "27734         4.0  cade2aee3b1062fe9c6314856ba263e7   \n",
       "27735         NaN  657989c9751e4f61cbf730c67ae15d4e   \n",
       "27736         1.0  0c620bcfc2a979fe9f22acbe0019f276   \n",
       "\n",
       "                               order_id                     order_item_id  \\\n",
       "0      ebe0ac703444de921b6fb5367260ad26  f4999efe0551c5673c9ccf960e648372   \n",
       "1      662539ec2021c4b79518b257ac839e00  8d9ca488c0d0075c8ba3d323cc4842b7   \n",
       "2      2356a902a3f8d5e5f2b2c2a8ea8b9a34  0fdcfca5e4be5dd653fcfdfa4788c911   \n",
       "3      662539ec2021c4b79518b257ac839e00  04577b5d415b3e8917b3940bd7f1abc4   \n",
       "4      451a0567ae7c693fb2882b37860ef20d  6a9c15755566cb2f407829fb3637de52   \n",
       "...                                 ...                               ...   \n",
       "27732  12a8f653a63f74268a3c91602e18a931  56defccc63de74d71ae919ab1ecae656   \n",
       "27733  c0b75f59becb4bb51c2f020c20241104  8855952988a815c33d84408ee4c60adb   \n",
       "27734  c0b75f59becb4bb51c2f020c20241104  848f2cb9ef28ad9b821e91599a3df37a   \n",
       "27735  84409ab5d58daa0e971150510b1c106a  aaaac45627dddcb26224f41f59da5b68   \n",
       "27736  23e63ace5ccf4dd62ad7da8aab98af93  f8ca2fa0793a913cc0abb9ac6e6b53a5   \n",
       "\n",
       "                order_date       sales     product_category  \\\n",
       "0      2020-04-24 03:04:56  376.913629       noissue Tissue   \n",
       "1      2020-08-09 07:43:44  199.020039     noissue Stickers   \n",
       "2      2020-06-09 15:28:48  123.189307  Compostable Mailers   \n",
       "3      2020-08-09 07:43:44   55.388231       noissue Stamps   \n",
       "4      2020-06-11 19:51:18  106.625325  Compostable Mailers   \n",
       "...                    ...         ...                  ...   \n",
       "27732  2020-08-28 16:08:39  170.119235     noissue Stickers   \n",
       "27733  2020-05-08 09:46:57  159.147661     noissue Stickers   \n",
       "27734  2020-05-08 09:46:57  340.266201       noissue Tissue   \n",
       "27735  2020-05-10 21:44:36   14.546653               Sample   \n",
       "27736  2020-05-19 13:04:48  516.875366       noissue Tissue   \n",
       "\n",
       "                                         item_sku  cust_type_New  \\\n",
       "0            custom tissue-1000#2colour-50 x 75cm              1   \n",
       "1            custom sticker-circle-75 x 75mm-1000              0   \n",
       "2                  noissue-mailer-100-370mm-480mm              1   \n",
       "3                 custom stamp-manual-8cm x 8cm-1              0   \n",
       "4                  noissue-mailer-100-300mm-420mm              1   \n",
       "...                                           ...            ...   \n",
       "27732        custom sticker-circle-40 x 40mm-1000              1   \n",
       "27733        custom sticker-circle-50 x 50mm-1000              0   \n",
       "27734  own template tissue-1000#2colour-50 x 75cm              0   \n",
       "27735                                  SAMPLEPACK              1   \n",
       "27736  own template tissue-2000#1colour-50 x 75cm              0   \n",
       "\n",
       "       cust_type_Repeat new_or_repeat_by_order  \n",
       "0                     0                    New  \n",
       "1                     1                 Repeat  \n",
       "2                     0                    New  \n",
       "3                     1                 Repeat  \n",
       "4                     0                    New  \n",
       "...                 ...                    ...  \n",
       "27732                 0                    New  \n",
       "27733                 1                 Repeat  \n",
       "27734                 1                 Repeat  \n",
       "27735                 0                    New  \n",
       "27736                 1                 Repeat  \n",
       "\n",
       "[27737 rows x 11 columns]"
      ]
     },
     "execution_count": 2,
     "metadata": {},
     "output_type": "execute_result"
    }
   ],
   "source": [
    "#open csv file\n",
    "file_to_load = \"output_csvs/sales_data_clean.csv\"\n",
    "sales_df=pd.read_csv(file_to_load, index_col=0)\n",
    "sales_df\n"
   ]
  },
  {
   "cell_type": "code",
   "execution_count": 3,
   "metadata": {},
   "outputs": [
    {
     "data": {
      "text/html": [
       "<div>\n",
       "<style scoped>\n",
       "    .dataframe tbody tr th:only-of-type {\n",
       "        vertical-align: middle;\n",
       "    }\n",
       "\n",
       "    .dataframe tbody tr th {\n",
       "        vertical-align: top;\n",
       "    }\n",
       "\n",
       "    .dataframe thead th {\n",
       "        text-align: right;\n",
       "    }\n",
       "</style>\n",
       "<table border=\"1\" class=\"dataframe\">\n",
       "  <thead>\n",
       "    <tr style=\"text-align: right;\">\n",
       "      <th></th>\n",
       "      <th>skus_count</th>\n",
       "      <th>sales</th>\n",
       "      <th>cust_type_New</th>\n",
       "      <th>cust_type_Repeat</th>\n",
       "    </tr>\n",
       "    <tr>\n",
       "      <th>new_or_repeat_by_order</th>\n",
       "      <th></th>\n",
       "      <th></th>\n",
       "      <th></th>\n",
       "      <th></th>\n",
       "    </tr>\n",
       "  </thead>\n",
       "  <tbody>\n",
       "    <tr>\n",
       "      <th>False</th>\n",
       "      <td>30837.0</td>\n",
       "      <td>3.526498e+06</td>\n",
       "      <td>19005</td>\n",
       "      <td>0</td>\n",
       "    </tr>\n",
       "    <tr>\n",
       "      <th>True</th>\n",
       "      <td>14405.0</td>\n",
       "      <td>2.640192e+06</td>\n",
       "      <td>0</td>\n",
       "      <td>8732</td>\n",
       "    </tr>\n",
       "  </tbody>\n",
       "</table>\n",
       "</div>"
      ],
      "text/plain": [
       "                        skus_count         sales  cust_type_New  \\\n",
       "new_or_repeat_by_order                                            \n",
       "False                      30837.0  3.526498e+06          19005   \n",
       "True                       14405.0  2.640192e+06              0   \n",
       "\n",
       "                        cust_type_Repeat  \n",
       "new_or_repeat_by_order                    \n",
       "False                                  0  \n",
       "True                                8732  "
      ]
     },
     "execution_count": 3,
     "metadata": {},
     "output_type": "execute_result"
    }
   ],
   "source": [
    "#Calculate total number of Repeat/new customer orders in df\n",
    "repeat_count=sales_df.groupby(sales_df[\"new_or_repeat_by_order\"]==\"Repeat\").sum()\n",
    "repeat_count"
   ]
  },
  {
   "cell_type": "code",
   "execution_count": 4,
   "metadata": {},
   "outputs": [
    {
     "name": "stdout",
     "output_type": "stream",
     "text": [
      "1.0     5147\n",
      "2.0     2185\n",
      "3.0      922\n",
      "4.0      236\n",
      "5.0       82\n",
      "6.0       45\n",
      "20.0      20\n",
      "7.0       14\n",
      "Name: skus_count, dtype: int64\n"
     ]
    },
    {
     "data": {
      "text/plain": [
       "302.35826878845097"
      ]
     },
     "execution_count": 4,
     "metadata": {},
     "output_type": "execute_result"
    }
   ],
   "source": [
    "#calculate sku count by repeat customer type\n",
    "repeat_df=sales_df.loc[sales_df[\"new_or_repeat_by_order\"]==\"Repeat\"]\n",
    "print(repeat_df[\"skus_count\"].value_counts())\n",
    "repeat_df[\"sales\"].mean()"
   ]
  },
  {
   "cell_type": "code",
   "execution_count": 5,
   "metadata": {},
   "outputs": [
    {
     "data": {
      "text/plain": [
       "1.0     9082\n",
       "2.0     5092\n",
       "3.0     2059\n",
       "4.0      656\n",
       "5.0      257\n",
       "6.0       42\n",
       "29.0      35\n",
       "7.0       22\n",
       "8.0        8\n",
       "Name: skus_count, dtype: int64"
      ]
     },
     "execution_count": 5,
     "metadata": {},
     "output_type": "execute_result"
    }
   ],
   "source": [
    "#calculate sku count by new customer type\n",
    "new_df=sales_df.loc[sales_df[\"new_or_repeat_by_order\"]==\"New\"]\n",
    "new_df[\"skus_count\"].value_counts()"
   ]
  },
  {
   "cell_type": "code",
   "execution_count": 23,
   "metadata": {},
   "outputs": [
    {
     "data": {
      "text/plain": [
       "product_category\n",
       "PLUS                   4130.896308\n",
       "Bundle                  439.120563\n",
       "noissue Tissue          275.359618\n",
       "noissue Tape            189.007936\n",
       "Dispenser               172.800483\n",
       "noissue Stickers        150.430639\n",
       "Compostable Mailers     147.064534\n",
       "noissue Cards           113.613723\n",
       "noissue Foodsafe         88.194452\n",
       "noissue Stamps           82.805983\n",
       "Recycled Mailers         81.546706\n",
       "Sample                   54.590376\n",
       "Name: sales, dtype: float64"
      ]
     },
     "execution_count": 23,
     "metadata": {},
     "output_type": "execute_result"
    }
   ],
   "source": [
    "#check answer for average sales by product type - SQL question 2\n",
    "sales_df.groupby(sales_df[\"product_category\"]).mean()[\"sales\"].sort_values(ascending=False)"
   ]
  },
  {
   "cell_type": "code",
   "execution_count": 7,
   "metadata": {},
   "outputs": [
    {
     "data": {
      "text/plain": [
       "213.27642903200464"
      ]
     },
     "execution_count": 7,
     "metadata": {},
     "output_type": "execute_result"
    }
   ],
   "source": [
    "#create a dataframe for sept sales\n",
    "sept_df=sales_df.loc[sales_df[\"order_date\"]>=\"2020-09-01\"]\n",
    "sept_df[\"sales\"].mean()"
   ]
  },
  {
   "cell_type": "code",
   "execution_count": 8,
   "metadata": {},
   "outputs": [
    {
     "data": {
      "text/plain": [
       "order_date\n",
       "False    183.802819\n",
       "True     190.773103\n",
       "Name: sales, dtype: float64"
      ]
     },
     "execution_count": 8,
     "metadata": {},
     "output_type": "execute_result"
    }
   ],
   "source": [
    "#calculate new customer average sales in sept to check calculations on AOV\n",
    "sales_df.loc[sales_df[\"new_or_repeat_by_order\"]==\"New\"].groupby(sales_df[\"order_date\"]>=\"2020-09-01\").mean()[\"sales\"]"
   ]
  },
  {
   "cell_type": "code",
   "execution_count": 9,
   "metadata": {},
   "outputs": [
    {
     "data": {
      "text/html": [
       "<div>\n",
       "<style scoped>\n",
       "    .dataframe tbody tr th:only-of-type {\n",
       "        vertical-align: middle;\n",
       "    }\n",
       "\n",
       "    .dataframe tbody tr th {\n",
       "        vertical-align: top;\n",
       "    }\n",
       "\n",
       "    .dataframe thead th {\n",
       "        text-align: right;\n",
       "    }\n",
       "</style>\n",
       "<table border=\"1\" class=\"dataframe\">\n",
       "  <thead>\n",
       "    <tr style=\"text-align: right;\">\n",
       "      <th></th>\n",
       "      <th>sales</th>\n",
       "      <th>cust_type_New</th>\n",
       "      <th>cust_type_Repeat</th>\n",
       "    </tr>\n",
       "    <tr>\n",
       "      <th>skus_count</th>\n",
       "      <th></th>\n",
       "      <th></th>\n",
       "      <th></th>\n",
       "    </tr>\n",
       "  </thead>\n",
       "  <tbody>\n",
       "    <tr>\n",
       "      <th>1.0</th>\n",
       "      <td>142.869516</td>\n",
       "      <td>0.327433</td>\n",
       "      <td>0.185564</td>\n",
       "    </tr>\n",
       "    <tr>\n",
       "      <th>2.0</th>\n",
       "      <td>48.665091</td>\n",
       "      <td>0.183581</td>\n",
       "      <td>0.078776</td>\n",
       "    </tr>\n",
       "    <tr>\n",
       "      <th>3.0</th>\n",
       "      <td>18.630119</td>\n",
       "      <td>0.074233</td>\n",
       "      <td>0.033241</td>\n",
       "    </tr>\n",
       "    <tr>\n",
       "      <th>4.0</th>\n",
       "      <td>5.629631</td>\n",
       "      <td>0.023651</td>\n",
       "      <td>0.008508</td>\n",
       "    </tr>\n",
       "    <tr>\n",
       "      <th>5.0</th>\n",
       "      <td>2.085135</td>\n",
       "      <td>0.009266</td>\n",
       "      <td>0.002956</td>\n",
       "    </tr>\n",
       "    <tr>\n",
       "      <th>6.0</th>\n",
       "      <td>0.537248</td>\n",
       "      <td>0.001514</td>\n",
       "      <td>0.001622</td>\n",
       "    </tr>\n",
       "    <tr>\n",
       "      <th>7.0</th>\n",
       "      <td>0.186103</td>\n",
       "      <td>0.000793</td>\n",
       "      <td>0.000505</td>\n",
       "    </tr>\n",
       "    <tr>\n",
       "      <th>8.0</th>\n",
       "      <td>0.046749</td>\n",
       "      <td>0.000288</td>\n",
       "      <td>0.000000</td>\n",
       "    </tr>\n",
       "    <tr>\n",
       "      <th>20.0</th>\n",
       "      <td>0.028517</td>\n",
       "      <td>0.000000</td>\n",
       "      <td>0.000721</td>\n",
       "    </tr>\n",
       "    <tr>\n",
       "      <th>29.0</th>\n",
       "      <td>0.062063</td>\n",
       "      <td>0.001262</td>\n",
       "      <td>0.000000</td>\n",
       "    </tr>\n",
       "  </tbody>\n",
       "</table>\n",
       "</div>"
      ],
      "text/plain": [
       "                 sales  cust_type_New  cust_type_Repeat\n",
       "skus_count                                             \n",
       "1.0         142.869516       0.327433          0.185564\n",
       "2.0          48.665091       0.183581          0.078776\n",
       "3.0          18.630119       0.074233          0.033241\n",
       "4.0           5.629631       0.023651          0.008508\n",
       "5.0           2.085135       0.009266          0.002956\n",
       "6.0           0.537248       0.001514          0.001622\n",
       "7.0           0.186103       0.000793          0.000505\n",
       "8.0           0.046749       0.000288          0.000000\n",
       "20.0          0.028517       0.000000          0.000721\n",
       "29.0          0.062063       0.001262          0.000000"
      ]
     },
     "execution_count": 9,
     "metadata": {},
     "output_type": "execute_result"
    }
   ],
   "source": [
    "#percentage by basket count - check\n",
    "(sales_df.groupby(sales_df[\"skus_count\"]).sum())/((sales_df[\"cust_type_Repeat\"]).count())"
   ]
  },
  {
   "cell_type": "code",
   "execution_count": 10,
   "metadata": {},
   "outputs": [
    {
     "data": {
      "text/plain": [
       "noissue Tissue         10128\n",
       "Compostable Mailers     5863\n",
       "noissue Stickers        5499\n",
       "Sample                  2085\n",
       "noissue Stamps          1572\n",
       "noissue Tape            1425\n",
       "noissue Cards            516\n",
       "PLUS                     240\n",
       "Bundle                   236\n",
       "Recycled Mailers          83\n",
       "Dispenser                 79\n",
       "noissue Foodsafe          11\n",
       "Name: product_category, dtype: int64"
      ]
     },
     "execution_count": 10,
     "metadata": {},
     "output_type": "execute_result"
    }
   ],
   "source": [
    "#how many orders per product category/repeat\n",
    "sales_df[\"product_category\"].value_counts()"
   ]
  },
  {
   "cell_type": "code",
   "execution_count": 21,
   "metadata": {},
   "outputs": [
    {
     "data": {
      "text/plain": [
       "item_sku\n",
       "custom tissue-50 x 75cm-250#1colour                          924.0\n",
       "custom tissue-1000#1colour-50 x 75cm                         916.0\n",
       "noissue-mailer-100-260mm-385mm                               905.0\n",
       "noissue-mailer-100-300mm-420mm                               562.0\n",
       "custom stamp-manual-8cm x 8cm-1                              552.0\n",
       "                                                             ...  \n",
       "custom stamp-manual-8cm x 8cm-3                                1.0\n",
       "custom sticker-square-100 x 100mm-2000                         1.0\n",
       "custom cards creator design-148mm x 105mm-A6-2000-FSC Mix      1.0\n",
       "custom sticker-rectangle-125 x 75mm-5000                       1.0\n",
       "custom stamp-self-inking-5cm x 5cm-2                           1.0\n",
       "Name: skus_count, Length: 249, dtype: float64"
      ]
     },
     "execution_count": 21,
     "metadata": {},
     "output_type": "execute_result"
    }
   ],
   "source": [
    "#checking SQL question #1\n",
    "#item skus the same, but numbers are different...\n",
    "sales_df.loc[sales_df[\"order_date\"]>=\"2020-08-05\"]\\\n",
    ".groupby(sales_df[\"item_sku\"]).sum()[\"skus_count\"].sort_values(ascending=False)"
   ]
  },
  {
   "cell_type": "code",
   "execution_count": 25,
   "metadata": {},
   "outputs": [
    {
     "data": {
      "text/plain": [
       "product_category\n",
       "noissue Tissue         3898\n",
       "noissue Stickers       1810\n",
       "Compostable Mailers    1619\n",
       "noissue Tape            474\n",
       "noissue Stamps          386\n",
       "noissue Cards           209\n",
       "PLUS                    116\n",
       "Sample                  113\n",
       "Bundle                   40\n",
       "Recycled Mailers         37\n",
       "Dispenser                27\n",
       "noissue Foodsafe          3\n",
       "Name: cust_type_Repeat, dtype: int64"
      ]
     },
     "execution_count": 25,
     "metadata": {},
     "output_type": "execute_result"
    }
   ],
   "source": [
    "sales_df.groupby(sales_df[\"product_category\"]).sum()[\"cust_type_Repeat\"].sort_values(ascending=False)"
   ]
  },
  {
   "cell_type": "code",
   "execution_count": null,
   "metadata": {},
   "outputs": [],
   "source": []
  }
 ],
 "metadata": {
  "kernelspec": {
   "display_name": "PythonData",
   "language": "python",
   "name": "pythondata"
  },
  "language_info": {
   "codemirror_mode": {
    "name": "ipython",
    "version": 3
   },
   "file_extension": ".py",
   "mimetype": "text/x-python",
   "name": "python",
   "nbconvert_exporter": "python",
   "pygments_lexer": "ipython3",
   "version": "3.8.3"
  }
 },
 "nbformat": 4,
 "nbformat_minor": 4
}
